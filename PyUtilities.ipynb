{
  "nbformat": 4,
  "nbformat_minor": 0,
  "metadata": {
    "colab": {
      "name": "PyUtilities.ipynb",
      "provenance": [],
      "collapsed_sections": [],
      "include_colab_link": true
    },
    "kernelspec": {
      "name": "python3",
      "display_name": "Python 3"
    }
  },
  "cells": [
    {
      "cell_type": "markdown",
      "metadata": {
        "id": "view-in-github",
        "colab_type": "text"
      },
      "source": [
        "<a href=\"https://colab.research.google.com/github/codyfitch/Gimm400/blob/master/PyUtilities.ipynb\" target=\"_parent\"><img src=\"https://colab.research.google.com/assets/colab-badge.svg\" alt=\"Open In Colab\"/></a>"
      ]
    },
    {
      "cell_type": "code",
      "metadata": {
        "id": "GxbgSCSOvIVU",
        "colab_type": "code",
        "colab": {}
      },
      "source": [
        "#Setting up a list\n",
        "hands = [\n",
        "    ['J', 'Q', 'K'],\n",
        "    ['2', '2', '2'],\n",
        "    ['6', 'A', 'K'], # (Comma after the last element is optional)\n",
        "]\n",
        "\n",
        "#List range\n",
        "planets[0:3]\n",
        "#Would output:\n",
        "#['Mercury', 'Venus', 'Earth'] values 0, 1, and 2 in the array\n",
        "\n",
        "#Use sorted to sort list in alphabetical order\n",
        "sorted(planets)\n",
        "#would output:\n",
        "#['Earth', 'Jupiter', 'Mars', 'Mercury', 'Neptune', 'Saturn', 'Uranus', 'Venus']\n",
        "\n",
        "#Loops\n",
        "planets = ['Mercury', 'Venus', 'Earth', 'Mars', 'Jupiter', 'Saturn', 'Uranus', 'Neptune'] #Set up list\n",
        "for planet in planets: #Use for/in to loop through list. Colon for function declaration\n",
        "    print(planet, end=' ') # print all on same line\n",
        "\n",
        "#Loop through a list and only output negative numbers\n",
        "def count_negatives(nums):\n",
        "    \"\"\"Return the number of negative numbers in the given list.\n",
        "    \n",
        "    >>> count_negatives([5, -1, -2, 0, 3])\n",
        "    2\n",
        "    \"\"\"\n",
        "    n_negative = 0\n",
        "    for num in nums:\n",
        "        if num < 0:\n",
        "            n_negative = n_negative + 1\n",
        "    return n_negative\n",
        "#same thing using list comprehension\n",
        "def count_negatives(nums):\n",
        "    return len([num for num in nums if num < 0])\n",
        "\n",
        "#Use help to get information on library functions\n",
        "help(math.log)\n",
        "\n",
        "#Two helpful libraries\n",
        "import numpy #numpy does more difficult calculations for you with only a couple lines of code\n",
        "import TensorFlow #Tensorflow allows for use of the AI system Tensorflow\n",
        "import pandas as pd #Library for analyzing data\n",
        "\n",
        "#Random forest model example. Random forest is used to collect a lot of data from a more diverse set of\n",
        "#data points. Instead of many branches from only a few data points, or many data points in fewer branches, \n",
        "#we use the forest model which allows for many branches spread from many data points. This usually results\n",
        "#in a more accurate analyzaion of data\n",
        "from sklearn.ensemble import RandomForestRegressor #Uses the random forest model\n",
        "from sklearn.metrics import mean_absolute_error\n",
        "\n",
        "forest_model = RandomForestRegressor(random_state=1)\n",
        "forest_model.fit(train_X, train_y)\n",
        "melb_preds = forest_model.predict(val_X)\n",
        "print(mean_absolute_error(val_y, melb_preds))\n",
        "\n",
        "#Using pandas to organize data\n",
        "pd.DataFrame({'Bob': ['I liked it.', 'It was awful.'], \n",
        "              'Sue': ['Pretty good.', 'Bland.']},\n",
        "             index=['Product A', 'Product B'])\n",
        "#output would create a table with Bob and Sue as the categories and put the correct strings under each\n",
        "\n",
        "#Creating multi-indexes using pandas\n",
        "countries_reviewed = reviews.groupby(['country', 'province']).description.agg([len])\n",
        "countries_reviewed\n",
        "#Would output tables within tables for even more organization\n",
        "\n",
        "\n",
        "\n",
        "\n",
        "\n",
        "\n",
        "\n"
      ],
      "execution_count": 0,
      "outputs": []
    }
  ]
}